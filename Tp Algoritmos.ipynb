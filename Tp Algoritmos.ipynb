{
 "cells": [
  {
   "cell_type": "code",
   "execution_count": 194,
   "metadata": {},
   "outputs": [],
   "source": [
    "import pandas as pd\n",
    "import numpy as np\n",
    "import matplotlib.pyplot as plt\n",
    "import seaborn as sns\n",
    "import os\n",
    "import warnings\n",
    "from pandasql import sqldf\n",
    "\n",
    "import base64\n",
    "def create_onedrive_directdownload (onedrive_link):\n",
    "    data_bytes64 = base64.b64encode(bytes(onedrive_link, 'utf-8'))\n",
    "    data_bytes64_String = data_bytes64.decode('utf-8').replace('/','_').replace('+','-').rstrip(\"=\")\n",
    "    resulturl = f\"https://api.onedrive.com/v1.0/shares/u!{data_bytes64_String}/root/content\"\n",
    "    return resulturl"
   ]
  },
  {
   "cell_type": "code",
   "execution_count": 195,
   "metadata": {},
   "outputs": [
    {
     "name": "stderr",
     "output_type": "stream",
     "text": [
      "C:\\Users\\murtubey\\AppData\\Local\\Temp\\ipykernel_23592\\2818409657.py:3: DtypeWarning: Columns (9) have mixed types. Specify dtype option on import or set low_memory=False.\n",
      "  df = pd.read_csv(url,delimiter=\";\",encoding='latin-1')\n"
     ]
    }
   ],
   "source": [
    "url=create_onedrive_directdownload('https://1drv.ms/u/s!Ao8apDPz_iMP5xuBplq4Q2ExVen3?e=ykziFg')\n",
    "#read csv\n",
    "df = pd.read_csv(url,delimiter=\";\",encoding='latin-1')"
   ]
  },
  {
   "cell_type": "code",
   "execution_count": 196,
   "metadata": {},
   "outputs": [
    {
     "data": {
      "text/html": [
       "<div>\n",
       "<style scoped>\n",
       "    .dataframe tbody tr th:only-of-type {\n",
       "        vertical-align: middle;\n",
       "    }\n",
       "\n",
       "    .dataframe tbody tr th {\n",
       "        vertical-align: top;\n",
       "    }\n",
       "\n",
       "    .dataframe thead th {\n",
       "        text-align: right;\n",
       "    }\n",
       "</style>\n",
       "<table border=\"1\" class=\"dataframe\">\n",
       "  <thead>\n",
       "    <tr style=\"text-align: right;\">\n",
       "      <th></th>\n",
       "      <th>Fecha UTC</th>\n",
       "      <th>Hora UTC</th>\n",
       "      <th>Clase de Vuelo (todos los vuelos)</th>\n",
       "      <th>Clasificación Vuelo</th>\n",
       "      <th>Tipo de Movimiento</th>\n",
       "      <th>Aeropuerto</th>\n",
       "      <th>Origen / Destino</th>\n",
       "      <th>Aerolinea Nombre</th>\n",
       "      <th>Aeronave</th>\n",
       "      <th>Pasajeros</th>\n",
       "      <th>Calidad dato</th>\n",
       "    </tr>\n",
       "  </thead>\n",
       "  <tbody>\n",
       "    <tr>\n",
       "      <th>0</th>\n",
       "      <td>1/1/2022</td>\n",
       "      <td>23:58</td>\n",
       "      <td>Regular</td>\n",
       "      <td>Doméstico</td>\n",
       "      <td>ATERRIZAJE</td>\n",
       "      <td>IGU</td>\n",
       "      <td>CBA</td>\n",
       "      <td>AEROLINEAS ARGENTINAS SA</td>\n",
       "      <td>BO-737-8HX</td>\n",
       "      <td>71</td>\n",
       "      <td>DEFINITIVO</td>\n",
       "    </tr>\n",
       "    <tr>\n",
       "      <th>1</th>\n",
       "      <td>1/1/2022</td>\n",
       "      <td>23:57</td>\n",
       "      <td>No Regular</td>\n",
       "      <td>Doméstico</td>\n",
       "      <td>ATERRIZAJE</td>\n",
       "      <td>AER</td>\n",
       "      <td>EZE</td>\n",
       "      <td>BAIRES FLY SA</td>\n",
       "      <td>LJ-60</td>\n",
       "      <td>0</td>\n",
       "      <td>DEFINITIVO</td>\n",
       "    </tr>\n",
       "    <tr>\n",
       "      <th>2</th>\n",
       "      <td>1/1/2022</td>\n",
       "      <td>23:56</td>\n",
       "      <td>Regular</td>\n",
       "      <td>Doméstico</td>\n",
       "      <td>ATERRIZAJE</td>\n",
       "      <td>JUJ</td>\n",
       "      <td>AER</td>\n",
       "      <td>FB LÍNEAS AÉREAS - FLYBONDI</td>\n",
       "      <td>BO-737-8Q8</td>\n",
       "      <td>91</td>\n",
       "      <td>DEFINITIVO</td>\n",
       "    </tr>\n",
       "    <tr>\n",
       "      <th>3</th>\n",
       "      <td>1/1/2022</td>\n",
       "      <td>23:55</td>\n",
       "      <td>Regular</td>\n",
       "      <td>Doméstico</td>\n",
       "      <td>ATERRIZAJE</td>\n",
       "      <td>AER</td>\n",
       "      <td>DOZ</td>\n",
       "      <td>AEROLINEAS ARGENTINAS SA</td>\n",
       "      <td>BO-737-800</td>\n",
       "      <td>51</td>\n",
       "      <td>DEFINITIVO</td>\n",
       "    </tr>\n",
       "    <tr>\n",
       "      <th>4</th>\n",
       "      <td>1/1/2022</td>\n",
       "      <td>23:50</td>\n",
       "      <td>Regular</td>\n",
       "      <td>Doméstico</td>\n",
       "      <td>ATERRIZAJE</td>\n",
       "      <td>JUJ</td>\n",
       "      <td>AER</td>\n",
       "      <td>AEROLINEAS ARGENTINAS SA</td>\n",
       "      <td>EMB-ERJ190100IGW</td>\n",
       "      <td>47</td>\n",
       "      <td>DEFINITIVO</td>\n",
       "    </tr>\n",
       "  </tbody>\n",
       "</table>\n",
       "</div>"
      ],
      "text/plain": [
       "  Fecha UTC Hora UTC Clase de Vuelo (todos los vuelos) Clasificación Vuelo  \\\n",
       "0  1/1/2022    23:58                           Regular           Doméstico   \n",
       "1  1/1/2022    23:57                        No Regular           Doméstico   \n",
       "2  1/1/2022    23:56                           Regular           Doméstico   \n",
       "3  1/1/2022    23:55                           Regular           Doméstico   \n",
       "4  1/1/2022    23:50                           Regular           Doméstico   \n",
       "\n",
       "  Tipo de Movimiento Aeropuerto Origen / Destino             Aerolinea Nombre  \\\n",
       "0         ATERRIZAJE        IGU              CBA     AEROLINEAS ARGENTINAS SA   \n",
       "1         ATERRIZAJE        AER              EZE                BAIRES FLY SA   \n",
       "2         ATERRIZAJE        JUJ              AER  FB LÍNEAS AÉREAS - FLYBONDI   \n",
       "3         ATERRIZAJE        AER              DOZ     AEROLINEAS ARGENTINAS SA   \n",
       "4         ATERRIZAJE        JUJ              AER     AEROLINEAS ARGENTINAS SA   \n",
       "\n",
       "           Aeronave Pasajeros Calidad dato  \n",
       "0        BO-737-8HX        71   DEFINITIVO  \n",
       "1             LJ-60         0   DEFINITIVO  \n",
       "2        BO-737-8Q8        91   DEFINITIVO  \n",
       "3        BO-737-800        51   DEFINITIVO  \n",
       "4  EMB-ERJ190100IGW        47   DEFINITIVO  "
      ]
     },
     "execution_count": 196,
     "metadata": {},
     "output_type": "execute_result"
    }
   ],
   "source": [
    "df.head()"
   ]
  },
  {
   "cell_type": "code",
   "execution_count": 197,
   "metadata": {},
   "outputs": [
    {
     "name": "stdout",
     "output_type": "stream",
     "text": [
      "<class 'pandas.core.frame.DataFrame'>\n",
      "RangeIndex: 612486 entries, 0 to 612485\n",
      "Data columns (total 11 columns):\n",
      " #   Column                             Non-Null Count   Dtype \n",
      "---  ------                             --------------   ----- \n",
      " 0   Fecha UTC                          612486 non-null  object\n",
      " 1   Hora UTC                           612486 non-null  object\n",
      " 2   Clase de Vuelo (todos los vuelos)  612486 non-null  object\n",
      " 3   Clasificación Vuelo                612486 non-null  object\n",
      " 4   Tipo de Movimiento                 612486 non-null  object\n",
      " 5   Aeropuerto                         612486 non-null  object\n",
      " 6   Origen / Destino                   612486 non-null  object\n",
      " 7   Aerolinea Nombre                   612486 non-null  object\n",
      " 8   Aeronave                           612486 non-null  object\n",
      " 9   Pasajeros                          612486 non-null  object\n",
      " 10  Calidad dato                       612486 non-null  object\n",
      "dtypes: object(11)\n",
      "memory usage: 51.4+ MB\n"
     ]
    }
   ],
   "source": [
    "df.info()"
   ]
  },
  {
   "cell_type": "code",
   "execution_count": 198,
   "metadata": {},
   "outputs": [],
   "source": [
    "#drop calidad dato \n",
    "df.drop(['Calidad dato'], axis=1, inplace=True)\n"
   ]
  },
  {
   "cell_type": "code",
   "execution_count": 199,
   "metadata": {},
   "outputs": [],
   "source": [
    "#convert Pasajeros column to string\n",
    "df['Pasajeros'] = df['Pasajeros'].astype(str)\n",
    "#replace , with .\n",
    "df['Pasajeros'] = df['Pasajeros'].str.replace(',','.')\n",
    "#convert Pasajeros column to float\n",
    "df['Pasajeros'] = df['Pasajeros'].astype(float)"
   ]
  },
  {
   "cell_type": "code",
   "execution_count": 200,
   "metadata": {},
   "outputs": [
    {
     "data": {
      "text/plain": [
       "28892567.5"
      ]
     },
     "execution_count": 200,
     "metadata": {},
     "output_type": "execute_result"
    }
   ],
   "source": [
    "#controlo con una suma\n",
    "df['Pasajeros'].sum()"
   ]
  },
  {
   "cell_type": "code",
   "execution_count": 201,
   "metadata": {},
   "outputs": [
    {
     "data": {
      "text/plain": [
       "Fecha UTC                            0.0\n",
       "Hora UTC                             0.0\n",
       "Clase de Vuelo (todos los vuelos)    0.0\n",
       "Clasificación Vuelo                  0.0\n",
       "Tipo de Movimiento                   0.0\n",
       "Aeropuerto                           0.0\n",
       "Origen / Destino                     0.0\n",
       "Aerolinea Nombre                     0.0\n",
       "Aeronave                             0.0\n",
       "Pasajeros                            0.0\n",
       "dtype: float64"
      ]
     },
     "execution_count": 201,
     "metadata": {},
     "output_type": "execute_result"
    }
   ],
   "source": [
    "# percentage of null values in each column\n",
    "df.isnull().sum()/len(df)*100\n"
   ]
  },
  {
   "cell_type": "code",
   "execution_count": 202,
   "metadata": {},
   "outputs": [
    {
     "data": {
      "text/html": [
       "<div>\n",
       "<style scoped>\n",
       "    .dataframe tbody tr th:only-of-type {\n",
       "        vertical-align: middle;\n",
       "    }\n",
       "\n",
       "    .dataframe tbody tr th {\n",
       "        vertical-align: top;\n",
       "    }\n",
       "\n",
       "    .dataframe thead th {\n",
       "        text-align: right;\n",
       "    }\n",
       "</style>\n",
       "<table border=\"1\" class=\"dataframe\">\n",
       "  <thead>\n",
       "    <tr style=\"text-align: right;\">\n",
       "      <th></th>\n",
       "      <th>Hora</th>\n",
       "    </tr>\n",
       "  </thead>\n",
       "  <tbody>\n",
       "    <tr>\n",
       "      <th>0</th>\n",
       "      <td>23</td>\n",
       "    </tr>\n",
       "    <tr>\n",
       "      <th>1</th>\n",
       "      <td>23</td>\n",
       "    </tr>\n",
       "    <tr>\n",
       "      <th>2</th>\n",
       "      <td>23</td>\n",
       "    </tr>\n",
       "    <tr>\n",
       "      <th>3</th>\n",
       "      <td>23</td>\n",
       "    </tr>\n",
       "    <tr>\n",
       "      <th>4</th>\n",
       "      <td>23</td>\n",
       "    </tr>\n",
       "  </tbody>\n",
       "</table>\n",
       "</div>"
      ],
      "text/plain": [
       "  Hora\n",
       "0   23\n",
       "1   23\n",
       "2   23\n",
       "3   23\n",
       "4   23"
      ]
     },
     "execution_count": 202,
     "metadata": {},
     "output_type": "execute_result"
    }
   ],
   "source": [
    "#separo la hora y los minutos en dos columnas\n",
    "df[['Hora','minutos']] = df['Hora UTC'].str.split(':',expand=True)\n",
    "df[['Hora']].head()"
   ]
  },
  {
   "cell_type": "code",
   "execution_count": 203,
   "metadata": {},
   "outputs": [
    {
     "data": {
      "text/html": [
       "<div>\n",
       "<style scoped>\n",
       "    .dataframe tbody tr th:only-of-type {\n",
       "        vertical-align: middle;\n",
       "    }\n",
       "\n",
       "    .dataframe tbody tr th {\n",
       "        vertical-align: top;\n",
       "    }\n",
       "\n",
       "    .dataframe thead th {\n",
       "        text-align: right;\n",
       "    }\n",
       "</style>\n",
       "<table border=\"1\" class=\"dataframe\">\n",
       "  <thead>\n",
       "    <tr style=\"text-align: right;\">\n",
       "      <th></th>\n",
       "      <th>Fecha UTC</th>\n",
       "      <th>Hora UTC</th>\n",
       "      <th>Clase de Vuelo (todos los vuelos)</th>\n",
       "      <th>Clasificación Vuelo</th>\n",
       "      <th>Tipo de Movimiento</th>\n",
       "      <th>Aeropuerto</th>\n",
       "      <th>Origen / Destino</th>\n",
       "      <th>Aerolinea Nombre</th>\n",
       "      <th>Aeronave</th>\n",
       "      <th>Pasajeros</th>\n",
       "      <th>Hora</th>\n",
       "      <th>minutos</th>\n",
       "    </tr>\n",
       "  </thead>\n",
       "  <tbody>\n",
       "    <tr>\n",
       "      <th>0</th>\n",
       "      <td>1/1/2022</td>\n",
       "      <td>23:58</td>\n",
       "      <td>Regular</td>\n",
       "      <td>Doméstico</td>\n",
       "      <td>ATERRIZAJE</td>\n",
       "      <td>IGU</td>\n",
       "      <td>CBA</td>\n",
       "      <td>AEROLINEAS ARGENTINAS SA</td>\n",
       "      <td>BO-737-8HX</td>\n",
       "      <td>71.0</td>\n",
       "      <td>23</td>\n",
       "      <td>58</td>\n",
       "    </tr>\n",
       "    <tr>\n",
       "      <th>1</th>\n",
       "      <td>1/1/2022</td>\n",
       "      <td>23:57</td>\n",
       "      <td>No Regular</td>\n",
       "      <td>Doméstico</td>\n",
       "      <td>ATERRIZAJE</td>\n",
       "      <td>AER</td>\n",
       "      <td>EZE</td>\n",
       "      <td>BAIRES FLY SA</td>\n",
       "      <td>LJ-60</td>\n",
       "      <td>0.0</td>\n",
       "      <td>23</td>\n",
       "      <td>57</td>\n",
       "    </tr>\n",
       "    <tr>\n",
       "      <th>2</th>\n",
       "      <td>1/1/2022</td>\n",
       "      <td>23:56</td>\n",
       "      <td>Regular</td>\n",
       "      <td>Doméstico</td>\n",
       "      <td>ATERRIZAJE</td>\n",
       "      <td>JUJ</td>\n",
       "      <td>AER</td>\n",
       "      <td>FB LÍNEAS AÉREAS - FLYBONDI</td>\n",
       "      <td>BO-737-8Q8</td>\n",
       "      <td>91.0</td>\n",
       "      <td>23</td>\n",
       "      <td>56</td>\n",
       "    </tr>\n",
       "    <tr>\n",
       "      <th>3</th>\n",
       "      <td>1/1/2022</td>\n",
       "      <td>23:55</td>\n",
       "      <td>Regular</td>\n",
       "      <td>Doméstico</td>\n",
       "      <td>ATERRIZAJE</td>\n",
       "      <td>AER</td>\n",
       "      <td>DOZ</td>\n",
       "      <td>AEROLINEAS ARGENTINAS SA</td>\n",
       "      <td>BO-737-800</td>\n",
       "      <td>51.0</td>\n",
       "      <td>23</td>\n",
       "      <td>55</td>\n",
       "    </tr>\n",
       "    <tr>\n",
       "      <th>4</th>\n",
       "      <td>1/1/2022</td>\n",
       "      <td>23:50</td>\n",
       "      <td>Regular</td>\n",
       "      <td>Doméstico</td>\n",
       "      <td>ATERRIZAJE</td>\n",
       "      <td>JUJ</td>\n",
       "      <td>AER</td>\n",
       "      <td>AEROLINEAS ARGENTINAS SA</td>\n",
       "      <td>EMB-ERJ190100IGW</td>\n",
       "      <td>47.0</td>\n",
       "      <td>23</td>\n",
       "      <td>50</td>\n",
       "    </tr>\n",
       "  </tbody>\n",
       "</table>\n",
       "</div>"
      ],
      "text/plain": [
       "  Fecha UTC Hora UTC Clase de Vuelo (todos los vuelos) Clasificación Vuelo  \\\n",
       "0  1/1/2022    23:58                           Regular           Doméstico   \n",
       "1  1/1/2022    23:57                        No Regular           Doméstico   \n",
       "2  1/1/2022    23:56                           Regular           Doméstico   \n",
       "3  1/1/2022    23:55                           Regular           Doméstico   \n",
       "4  1/1/2022    23:50                           Regular           Doméstico   \n",
       "\n",
       "  Tipo de Movimiento Aeropuerto Origen / Destino             Aerolinea Nombre  \\\n",
       "0         ATERRIZAJE        IGU              CBA     AEROLINEAS ARGENTINAS SA   \n",
       "1         ATERRIZAJE        AER              EZE                BAIRES FLY SA   \n",
       "2         ATERRIZAJE        JUJ              AER  FB LÍNEAS AÉREAS - FLYBONDI   \n",
       "3         ATERRIZAJE        AER              DOZ     AEROLINEAS ARGENTINAS SA   \n",
       "4         ATERRIZAJE        JUJ              AER     AEROLINEAS ARGENTINAS SA   \n",
       "\n",
       "           Aeronave  Pasajeros Hora minutos  \n",
       "0        BO-737-8HX       71.0   23      58  \n",
       "1             LJ-60        0.0   23      57  \n",
       "2        BO-737-8Q8       91.0   23      56  \n",
       "3        BO-737-800       51.0   23      55  \n",
       "4  EMB-ERJ190100IGW       47.0   23      50  "
      ]
     },
     "execution_count": 203,
     "metadata": {},
     "output_type": "execute_result"
    }
   ],
   "source": [
    "df.head()"
   ]
  },
  {
   "cell_type": "code",
   "execution_count": 204,
   "metadata": {},
   "outputs": [
    {
     "data": {
      "text/plain": [
       "Index(['Fecha UTC', 'Hora UTC', 'Clase de Vuelo (todos los vuelos)',\n",
       "       'Clasificación Vuelo', 'Tipo de Movimiento', 'Aeropuerto',\n",
       "       'Origen / Destino', 'Aerolinea Nombre', 'Aeronave', 'Pasajeros', 'Hora',\n",
       "       'minutos'],\n",
       "      dtype='object')"
      ]
     },
     "execution_count": 204,
     "metadata": {},
     "output_type": "execute_result"
    }
   ],
   "source": [
    "df.columns"
   ]
  },
  {
   "cell_type": "code",
   "execution_count": 205,
   "metadata": {},
   "outputs": [
    {
     "name": "stdout",
     "output_type": "stream",
     "text": [
      "Index(['fecha', 'Hora UTC', 'clase_vuelo', 'Clasificación Vuelo', 'movimiento',\n",
      "       'Aeropuerto', 'Origen / Destino', 'aerolinea', 'Aeronave', 'Pasajeros',\n",
      "       'Hora', 'minutos'],\n",
      "      dtype='object')\n"
     ]
    }
   ],
   "source": [
    "#renombro las columnas \n",
    "df.rename(columns=\n",
    "        {'Clase de Vuelo (todos los vuelos)': 'clase_vuelo',\n",
    "        'Tipo de Movimiento': 'movimiento',\n",
    "        'Aerolinea Nombre':'aerolinea',\n",
    "        'Fecha UTC':'fecha'\n",
    "        }, inplace=True)\n",
    "\n",
    "print(df.columns)"
   ]
  },
  {
   "cell_type": "code",
   "execution_count": 206,
   "metadata": {},
   "outputs": [
    {
     "name": "stdout",
     "output_type": "stream",
     "text": [
      "['ATERRIZAJE' 'DESPEGUE' 'Despegue' 'Aterrizaje']\n",
      "Index(['fecha', 'hora utc', 'clase_vuelo', 'clasificación vuelo', 'movimiento',\n",
      "       'aeropuerto', 'origen / destino', 'aerolinea', 'aeronave', 'pasajeros',\n",
      "       'hora', 'minutos'],\n",
      "      dtype='object')\n"
     ]
    }
   ],
   "source": [
    "#select distinct moviemiento\n",
    "print(df['movimiento'].unique())\n",
    "#convert all columns to lower case\n",
    "df.columns = map(str.lower, df.columns)\n",
    "df = df.applymap(lambda x: x.lower() if type(x) == str else x)\n",
    "print(df.columns)\n",
    "\n"
   ]
  },
  {
   "cell_type": "code",
   "execution_count": 207,
   "metadata": {},
   "outputs": [
    {
     "data": {
      "text/plain": [
       "array(['doméstico', 'internacional'], dtype=object)"
      ]
     },
     "execution_count": 207,
     "metadata": {},
     "output_type": "execute_result"
    }
   ],
   "source": [
    "df['clasificación vuelo'].unique()"
   ]
  },
  {
   "cell_type": "code",
   "execution_count": 208,
   "metadata": {},
   "outputs": [
    {
     "data": {
      "text/plain": [
       "Index(['fecha', 'hora utc', 'clase_vuelo', 'clasificación vuelo', 'movimiento',\n",
       "       'aeropuerto', 'origen / destino', 'aerolinea', 'aeronave', 'pasajeros',\n",
       "       'hora', 'minutos'],\n",
       "      dtype='object')"
      ]
     },
     "execution_count": 208,
     "metadata": {},
     "output_type": "execute_result"
    }
   ],
   "source": [
    "df.columns"
   ]
  },
  {
   "cell_type": "code",
   "execution_count": 209,
   "metadata": {},
   "outputs": [],
   "source": [
    "df.rename(columns=\n",
    "        {'Clase de Vuelo (todos los vuelos)': 'clase_vuelo',\n",
    "        'Tipo de Movimiento': 'movimiento',\n",
    "        'Aerolinea Nombre':'aerolinea',\n",
    "        'Fecha UTC':'fecha'\n",
    "        }, inplace=True)\n",
    "df.columns"
   ]
  },
  {
   "cell_type": "code",
   "execution_count": 250,
   "metadata": {},
   "outputs": [
    {
     "name": "stderr",
     "output_type": "stream",
     "text": [
      "C:\\Users\\murtubey\\AppData\\Local\\Temp\\ipykernel_23592\\3324647996.py:7: FutureWarning: weekofyear and week have been deprecated, please use DatetimeIndex.isocalendar().week instead, which returns a Series. To exactly reproduce the behavior of week and weekofyear and return an Index, you may call pd.Int64Index(idx.isocalendar().week)\n",
      "  df['week'] = pd.DatetimeIndex(df['fecha']).week\n"
     ]
    }
   ],
   "source": [
    "#obtengo los dias , meses y años de la semana y el periodo\n",
    "\n",
    "df['fecha']=pd.to_datetime(df['fecha'], format='%d/%m/%Y')\n",
    "df['dia'] = pd.DatetimeIndex(df['fecha']).day_name()\n",
    "df['month'] = pd.DatetimeIndex(df['fecha']).month\n",
    "df['year'] = pd.DatetimeIndex(df['fecha']).year\n",
    "df['week'] = pd.DatetimeIndex(df['fecha']).week\n",
    "df['period'] = df['year'].astype(str) + '-' + df['month'].astype(str)\n",
    "df['period'] = pd.to_datetime(df['period'], format='%Y-%m')\n",
    "#create a new column as period\n",
    "\n",
    "\n"
   ]
  },
  {
   "cell_type": "code",
   "execution_count": 213,
   "metadata": {},
   "outputs": [
    {
     "data": {
      "text/plain": [
       "array(['2022-01-01T00:00:00.000000000', '2022-02-01T00:00:00.000000000',\n",
       "       '2022-03-01T00:00:00.000000000', '2022-04-01T00:00:00.000000000',\n",
       "       '2022-05-01T00:00:00.000000000', '2022-06-01T00:00:00.000000000',\n",
       "       '2022-07-01T00:00:00.000000000', '2022-08-01T00:00:00.000000000',\n",
       "       '2022-09-01T00:00:00.000000000', '2022-10-01T00:00:00.000000000',\n",
       "       '2022-11-01T00:00:00.000000000', '2022-12-01T00:00:00.000000000',\n",
       "       '2023-01-01T00:00:00.000000000', '2023-02-01T00:00:00.000000000',\n",
       "       '2023-03-01T00:00:00.000000000'], dtype='datetime64[ns]')"
      ]
     },
     "execution_count": 213,
     "metadata": {},
     "output_type": "execute_result"
    }
   ],
   "source": [
    "#control de periodos\n",
    "df['period'].unique()"
   ]
  },
  {
   "cell_type": "code",
   "execution_count": 214,
   "metadata": {},
   "outputs": [
    {
     "data": {
      "text/plain": [
       "28892567.5"
      ]
     },
     "execution_count": 214,
     "metadata": {},
     "output_type": "execute_result"
    }
   ],
   "source": [
    "df['pasajeros'].sum()"
   ]
  },
  {
   "cell_type": "code",
   "execution_count": 215,
   "metadata": {},
   "outputs": [
    {
     "data": {
      "text/html": [
       "<div>\n",
       "<style scoped>\n",
       "    .dataframe tbody tr th:only-of-type {\n",
       "        vertical-align: middle;\n",
       "    }\n",
       "\n",
       "    .dataframe tbody tr th {\n",
       "        vertical-align: top;\n",
       "    }\n",
       "\n",
       "    .dataframe thead th {\n",
       "        text-align: right;\n",
       "    }\n",
       "</style>\n",
       "<table border=\"1\" class=\"dataframe\">\n",
       "  <thead>\n",
       "    <tr style=\"text-align: right;\">\n",
       "      <th></th>\n",
       "      <th>clase_vuelo</th>\n",
       "      <th>Pasajeros_Count</th>\n",
       "      <th>Pasajeros_Pct_Total</th>\n",
       "    </tr>\n",
       "  </thead>\n",
       "  <tbody>\n",
       "    <tr>\n",
       "      <th>0</th>\n",
       "      <td>regular</td>\n",
       "      <td>339372</td>\n",
       "      <td>55.408940</td>\n",
       "    </tr>\n",
       "    <tr>\n",
       "      <th>1</th>\n",
       "      <td>vuelo privado con matrícula nacional</td>\n",
       "      <td>99540</td>\n",
       "      <td>16.251800</td>\n",
       "    </tr>\n",
       "    <tr>\n",
       "      <th>2</th>\n",
       "      <td>vuelo escuela</td>\n",
       "      <td>71368</td>\n",
       "      <td>11.652185</td>\n",
       "    </tr>\n",
       "    <tr>\n",
       "      <th>3</th>\n",
       "      <td>no regular</td>\n",
       "      <td>53534</td>\n",
       "      <td>8.740445</td>\n",
       "    </tr>\n",
       "    <tr>\n",
       "      <th>4</th>\n",
       "      <td>vuelo oficial nacional</td>\n",
       "      <td>37166</td>\n",
       "      <td>6.068057</td>\n",
       "    </tr>\n",
       "    <tr>\n",
       "      <th>5</th>\n",
       "      <td>vuelo privado con matrícula extranjera</td>\n",
       "      <td>4826</td>\n",
       "      <td>0.787936</td>\n",
       "    </tr>\n",
       "    <tr>\n",
       "      <th>6</th>\n",
       "      <td>vuelo de adiestramiento</td>\n",
       "      <td>4296</td>\n",
       "      <td>0.701404</td>\n",
       "    </tr>\n",
       "    <tr>\n",
       "      <th>7</th>\n",
       "      <td>trabajo aéreo</td>\n",
       "      <td>2037</td>\n",
       "      <td>0.332579</td>\n",
       "    </tr>\n",
       "    <tr>\n",
       "      <th>8</th>\n",
       "      <td>vuelo oficial extranjero</td>\n",
       "      <td>347</td>\n",
       "      <td>0.056654</td>\n",
       "    </tr>\n",
       "  </tbody>\n",
       "</table>\n",
       "</div>"
      ],
      "text/plain": [
       "                              clase_vuelo  Pasajeros_Count  \\\n",
       "0                                 regular           339372   \n",
       "1    vuelo privado con matrícula nacional            99540   \n",
       "2                           vuelo escuela            71368   \n",
       "3                              no regular            53534   \n",
       "4                  vuelo oficial nacional            37166   \n",
       "5  vuelo privado con matrícula extranjera             4826   \n",
       "6                 vuelo de adiestramiento             4296   \n",
       "7                           trabajo aéreo             2037   \n",
       "8                vuelo oficial extranjero              347   \n",
       "\n",
       "   Pasajeros_Pct_Total  \n",
       "0            55.408940  \n",
       "1            16.251800  \n",
       "2            11.652185  \n",
       "3             8.740445  \n",
       "4             6.068057  \n",
       "5             0.787936  \n",
       "6             0.701404  \n",
       "7             0.332579  \n",
       "8             0.056654  "
      ]
     },
     "execution_count": 215,
     "metadata": {},
     "output_type": "execute_result"
    }
   ],
   "source": [
    "#analizamos los tipos de vuelo y nos quedamos unicamente con los vuelos de tipo regular \n",
    "df.groupby(['clase_vuelo']).agg(\n",
    "    Pasajeros_Count=('pasajeros','count'),\n",
    "    Pasajeros_Pct_Total=('pasajeros', lambda x: x.count()*100 / df['pasajeros'].count())\n",
    ").sort_values(by='Pasajeros_Count', ascending=False).reset_index()"
   ]
  },
  {
   "cell_type": "code",
   "execution_count": 216,
   "metadata": {},
   "outputs": [],
   "source": [
    "#nos quedamos unicamente con los vuelos de tipo regular\n",
    "df2=df[df['clase_vuelo']=='regular']"
   ]
  },
  {
   "cell_type": "code",
   "execution_count": 217,
   "metadata": {},
   "outputs": [
    {
     "data": {
      "text/html": [
       "<div>\n",
       "<style scoped>\n",
       "    .dataframe tbody tr th:only-of-type {\n",
       "        vertical-align: middle;\n",
       "    }\n",
       "\n",
       "    .dataframe tbody tr th {\n",
       "        vertical-align: top;\n",
       "    }\n",
       "\n",
       "    .dataframe thead th {\n",
       "        text-align: right;\n",
       "    }\n",
       "</style>\n",
       "<table border=\"1\" class=\"dataframe\">\n",
       "  <thead>\n",
       "    <tr style=\"text-align: right;\">\n",
       "      <th></th>\n",
       "      <th>fecha</th>\n",
       "      <th>hora utc</th>\n",
       "      <th>clase_vuelo</th>\n",
       "      <th>clasificación vuelo</th>\n",
       "      <th>movimiento</th>\n",
       "      <th>aeropuerto</th>\n",
       "      <th>origen / destino</th>\n",
       "      <th>aerolinea</th>\n",
       "      <th>aeronave</th>\n",
       "      <th>pasajeros</th>\n",
       "      <th>hora</th>\n",
       "      <th>minutos</th>\n",
       "      <th>dia</th>\n",
       "      <th>month</th>\n",
       "      <th>year</th>\n",
       "      <th>period</th>\n",
       "    </tr>\n",
       "  </thead>\n",
       "  <tbody>\n",
       "    <tr>\n",
       "      <th>0</th>\n",
       "      <td>2022-01-01</td>\n",
       "      <td>23:58</td>\n",
       "      <td>regular</td>\n",
       "      <td>doméstico</td>\n",
       "      <td>aterrizaje</td>\n",
       "      <td>igu</td>\n",
       "      <td>cba</td>\n",
       "      <td>aerolineas argentinas sa</td>\n",
       "      <td>bo-737-8hx</td>\n",
       "      <td>71.0</td>\n",
       "      <td>23</td>\n",
       "      <td>58</td>\n",
       "      <td>Saturday</td>\n",
       "      <td>1</td>\n",
       "      <td>2022</td>\n",
       "      <td>2022-01-01</td>\n",
       "    </tr>\n",
       "    <tr>\n",
       "      <th>2</th>\n",
       "      <td>2022-01-01</td>\n",
       "      <td>23:56</td>\n",
       "      <td>regular</td>\n",
       "      <td>doméstico</td>\n",
       "      <td>aterrizaje</td>\n",
       "      <td>juj</td>\n",
       "      <td>aer</td>\n",
       "      <td>fb líneas aéreas - flybondi</td>\n",
       "      <td>bo-737-8q8</td>\n",
       "      <td>91.0</td>\n",
       "      <td>23</td>\n",
       "      <td>56</td>\n",
       "      <td>Saturday</td>\n",
       "      <td>1</td>\n",
       "      <td>2022</td>\n",
       "      <td>2022-01-01</td>\n",
       "    </tr>\n",
       "    <tr>\n",
       "      <th>3</th>\n",
       "      <td>2022-01-01</td>\n",
       "      <td>23:55</td>\n",
       "      <td>regular</td>\n",
       "      <td>doméstico</td>\n",
       "      <td>aterrizaje</td>\n",
       "      <td>aer</td>\n",
       "      <td>doz</td>\n",
       "      <td>aerolineas argentinas sa</td>\n",
       "      <td>bo-737-800</td>\n",
       "      <td>51.0</td>\n",
       "      <td>23</td>\n",
       "      <td>55</td>\n",
       "      <td>Saturday</td>\n",
       "      <td>1</td>\n",
       "      <td>2022</td>\n",
       "      <td>2022-01-01</td>\n",
       "    </tr>\n",
       "    <tr>\n",
       "      <th>4</th>\n",
       "      <td>2022-01-01</td>\n",
       "      <td>23:50</td>\n",
       "      <td>regular</td>\n",
       "      <td>doméstico</td>\n",
       "      <td>aterrizaje</td>\n",
       "      <td>juj</td>\n",
       "      <td>aer</td>\n",
       "      <td>aerolineas argentinas sa</td>\n",
       "      <td>emb-erj190100igw</td>\n",
       "      <td>47.0</td>\n",
       "      <td>23</td>\n",
       "      <td>50</td>\n",
       "      <td>Saturday</td>\n",
       "      <td>1</td>\n",
       "      <td>2022</td>\n",
       "      <td>2022-01-01</td>\n",
       "    </tr>\n",
       "    <tr>\n",
       "      <th>5</th>\n",
       "      <td>2022-01-01</td>\n",
       "      <td>23:49</td>\n",
       "      <td>regular</td>\n",
       "      <td>doméstico</td>\n",
       "      <td>aterrizaje</td>\n",
       "      <td>bar</td>\n",
       "      <td>aer</td>\n",
       "      <td>jetsmart airlines s.a.</td>\n",
       "      <td>aib-a320-232</td>\n",
       "      <td>87.0</td>\n",
       "      <td>23</td>\n",
       "      <td>49</td>\n",
       "      <td>Saturday</td>\n",
       "      <td>1</td>\n",
       "      <td>2022</td>\n",
       "      <td>2022-01-01</td>\n",
       "    </tr>\n",
       "  </tbody>\n",
       "</table>\n",
       "</div>"
      ],
      "text/plain": [
       "       fecha hora utc clase_vuelo clasificación vuelo  movimiento aeropuerto  \\\n",
       "0 2022-01-01    23:58     regular           doméstico  aterrizaje        igu   \n",
       "2 2022-01-01    23:56     regular           doméstico  aterrizaje        juj   \n",
       "3 2022-01-01    23:55     regular           doméstico  aterrizaje        aer   \n",
       "4 2022-01-01    23:50     regular           doméstico  aterrizaje        juj   \n",
       "5 2022-01-01    23:49     regular           doméstico  aterrizaje        bar   \n",
       "\n",
       "  origen / destino                    aerolinea          aeronave  pasajeros  \\\n",
       "0              cba     aerolineas argentinas sa        bo-737-8hx       71.0   \n",
       "2              aer  fb líneas aéreas - flybondi        bo-737-8q8       91.0   \n",
       "3              doz     aerolineas argentinas sa        bo-737-800       51.0   \n",
       "4              aer     aerolineas argentinas sa  emb-erj190100igw       47.0   \n",
       "5              aer       jetsmart airlines s.a.      aib-a320-232       87.0   \n",
       "\n",
       "  hora minutos       dia  month  year     period  \n",
       "0   23      58  Saturday      1  2022 2022-01-01  \n",
       "2   23      56  Saturday      1  2022 2022-01-01  \n",
       "3   23      55  Saturday      1  2022 2022-01-01  \n",
       "4   23      50  Saturday      1  2022 2022-01-01  \n",
       "5   23      49  Saturday      1  2022 2022-01-01  "
      ]
     },
     "execution_count": 217,
     "metadata": {},
     "output_type": "execute_result"
    }
   ],
   "source": [
    "df2.head()"
   ]
  },
  {
   "cell_type": "code",
   "execution_count": 218,
   "metadata": {},
   "outputs": [
    {
     "name": "stdout",
     "output_type": "stream",
     "text": [
      "134478 135474 34288 35132\n"
     ]
    }
   ],
   "source": [
    "#dividimos el dataframe en 4 dataframes para su mejor analisis y ver si los podemos joinear \n",
    "# la idea es que la salida y el aterrizaje tengan una sola fila \n",
    "\n",
    "dfatedomes= df2[(df2['movimiento'] == 'aterrizaje')& (df2['clasificación vuelo'] == 'doméstico')]\n",
    "dfatedomes.head()\n",
    "dfdespedomes= df2[(df2['movimiento'] == 'despegue')& (df2['clasificación vuelo'] == 'doméstico')]\n",
    "dfateinter= df2[(df2['movimiento'] == 'aterrizaje')& (df2['clasificación vuelo'] == 'internacional')]\n",
    "dfdespeinter= df2[(df2['movimiento'] == 'despegue')& (df2['clasificación vuelo'] == 'internacional')]\n",
    "dfdespedomes.head()\n",
    "\n",
    "\n",
    "print(len(dfatedomes),len(dfdespedomes),len(dfateinter),len(dfdespeinter))\n",
    "\n",
    "\n",
    "#el largo no coincide por lo que hay que ver que pasa con los datos que no se pueden joinear\n",
    "\n"
   ]
  },
  {
   "cell_type": "code",
   "execution_count": 219,
   "metadata": {},
   "outputs": [
    {
     "name": "stdout",
     "output_type": "stream",
     "text": [
      "52 67 95 111\n"
     ]
    }
   ],
   "source": [
    "#distinct count column aerolinea with value counts\n",
    "print(dfatedomes['aerolinea'].nunique(),\n",
    "    dfdespedomes['aerolinea'].nunique(),\n",
    "    dfateinter['aerolinea'].nunique(),\n",
    "    dfdespeinter['aerolinea'].nunique()\n",
    ")\n"
   ]
  },
  {
   "cell_type": "code",
   "execution_count": 220,
   "metadata": {},
   "outputs": [
    {
     "data": {
      "text/html": [
       "<div>\n",
       "<style scoped>\n",
       "    .dataframe tbody tr th:only-of-type {\n",
       "        vertical-align: middle;\n",
       "    }\n",
       "\n",
       "    .dataframe tbody tr th {\n",
       "        vertical-align: top;\n",
       "    }\n",
       "\n",
       "    .dataframe thead th {\n",
       "        text-align: right;\n",
       "    }\n",
       "</style>\n",
       "<table border=\"1\" class=\"dataframe\">\n",
       "  <thead>\n",
       "    <tr style=\"text-align: right;\">\n",
       "      <th></th>\n",
       "      <th>fecha</th>\n",
       "      <th>hora utc</th>\n",
       "      <th>clase_vuelo</th>\n",
       "      <th>clasificación vuelo</th>\n",
       "      <th>movimiento</th>\n",
       "      <th>aeropuerto</th>\n",
       "      <th>origen / destino</th>\n",
       "      <th>aerolinea</th>\n",
       "      <th>aeronave</th>\n",
       "      <th>pasajeros</th>\n",
       "      <th>hora</th>\n",
       "      <th>minutos</th>\n",
       "      <th>dia</th>\n",
       "      <th>month</th>\n",
       "      <th>year</th>\n",
       "      <th>period</th>\n",
       "    </tr>\n",
       "  </thead>\n",
       "  <tbody>\n",
       "    <tr>\n",
       "      <th>308</th>\n",
       "      <td>2022-01-01</td>\n",
       "      <td>22:49</td>\n",
       "      <td>regular</td>\n",
       "      <td>doméstico</td>\n",
       "      <td>despegue</td>\n",
       "      <td>gal</td>\n",
       "      <td>aer</td>\n",
       "      <td>aerolineas argentinas sa</td>\n",
       "      <td>bo-737-8hx</td>\n",
       "      <td>53.0</td>\n",
       "      <td>22</td>\n",
       "      <td>49</td>\n",
       "      <td>Saturday</td>\n",
       "      <td>1</td>\n",
       "      <td>2022</td>\n",
       "      <td>2022-01-01</td>\n",
       "    </tr>\n",
       "    <tr>\n",
       "      <th>314</th>\n",
       "      <td>2022-01-01</td>\n",
       "      <td>22:25</td>\n",
       "      <td>regular</td>\n",
       "      <td>doméstico</td>\n",
       "      <td>despegue</td>\n",
       "      <td>cba</td>\n",
       "      <td>igu</td>\n",
       "      <td>aerolineas argentinas sa</td>\n",
       "      <td>bo-737-8hx</td>\n",
       "      <td>71.0</td>\n",
       "      <td>22</td>\n",
       "      <td>25</td>\n",
       "      <td>Saturday</td>\n",
       "      <td>1</td>\n",
       "      <td>2022</td>\n",
       "      <td>2022-01-01</td>\n",
       "    </tr>\n",
       "    <tr>\n",
       "      <th>374</th>\n",
       "      <td>2022-01-01</td>\n",
       "      <td>19:30</td>\n",
       "      <td>regular</td>\n",
       "      <td>doméstico</td>\n",
       "      <td>despegue</td>\n",
       "      <td>bar</td>\n",
       "      <td>cba</td>\n",
       "      <td>aerolineas argentinas sa</td>\n",
       "      <td>bo-737-8hx</td>\n",
       "      <td>42.0</td>\n",
       "      <td>19</td>\n",
       "      <td>30</td>\n",
       "      <td>Saturday</td>\n",
       "      <td>1</td>\n",
       "      <td>2022</td>\n",
       "      <td>2022-01-01</td>\n",
       "    </tr>\n",
       "    <tr>\n",
       "      <th>379</th>\n",
       "      <td>2022-01-01</td>\n",
       "      <td>19:06</td>\n",
       "      <td>regular</td>\n",
       "      <td>doméstico</td>\n",
       "      <td>despegue</td>\n",
       "      <td>aer</td>\n",
       "      <td>gal</td>\n",
       "      <td>aerolineas argentinas sa</td>\n",
       "      <td>bo-737-8hx</td>\n",
       "      <td>40.0</td>\n",
       "      <td>19</td>\n",
       "      <td>06</td>\n",
       "      <td>Saturday</td>\n",
       "      <td>1</td>\n",
       "      <td>2022</td>\n",
       "      <td>2022-01-01</td>\n",
       "    </tr>\n",
       "    <tr>\n",
       "      <th>427</th>\n",
       "      <td>2022-01-01</td>\n",
       "      <td>16:29</td>\n",
       "      <td>regular</td>\n",
       "      <td>doméstico</td>\n",
       "      <td>despegue</td>\n",
       "      <td>cba</td>\n",
       "      <td>bar</td>\n",
       "      <td>aerolineas argentinas sa</td>\n",
       "      <td>bo-737-8hx</td>\n",
       "      <td>84.0</td>\n",
       "      <td>16</td>\n",
       "      <td>29</td>\n",
       "      <td>Saturday</td>\n",
       "      <td>1</td>\n",
       "      <td>2022</td>\n",
       "      <td>2022-01-01</td>\n",
       "    </tr>\n",
       "    <tr>\n",
       "      <th>...</th>\n",
       "      <td>...</td>\n",
       "      <td>...</td>\n",
       "      <td>...</td>\n",
       "      <td>...</td>\n",
       "      <td>...</td>\n",
       "      <td>...</td>\n",
       "      <td>...</td>\n",
       "      <td>...</td>\n",
       "      <td>...</td>\n",
       "      <td>...</td>\n",
       "      <td>...</td>\n",
       "      <td>...</td>\n",
       "      <td>...</td>\n",
       "      <td>...</td>\n",
       "      <td>...</td>\n",
       "      <td>...</td>\n",
       "    </tr>\n",
       "    <tr>\n",
       "      <th>612084</th>\n",
       "      <td>2023-03-31</td>\n",
       "      <td>19:55</td>\n",
       "      <td>regular</td>\n",
       "      <td>doméstico</td>\n",
       "      <td>despegue</td>\n",
       "      <td>eca</td>\n",
       "      <td>aer</td>\n",
       "      <td>aerolineas argentinas sa</td>\n",
       "      <td>bo-737-8hx</td>\n",
       "      <td>82.0</td>\n",
       "      <td>19</td>\n",
       "      <td>55</td>\n",
       "      <td>Friday</td>\n",
       "      <td>3</td>\n",
       "      <td>2023</td>\n",
       "      <td>2023-03-01</td>\n",
       "    </tr>\n",
       "    <tr>\n",
       "      <th>612284</th>\n",
       "      <td>2023-03-31</td>\n",
       "      <td>21:46</td>\n",
       "      <td>regular</td>\n",
       "      <td>doméstico</td>\n",
       "      <td>despegue</td>\n",
       "      <td>usu</td>\n",
       "      <td>eze</td>\n",
       "      <td>fb líneas aéreas - flybondi</td>\n",
       "      <td>bo-737-8hx</td>\n",
       "      <td>1.0</td>\n",
       "      <td>21</td>\n",
       "      <td>46</td>\n",
       "      <td>Friday</td>\n",
       "      <td>3</td>\n",
       "      <td>2023</td>\n",
       "      <td>2023-03-01</td>\n",
       "    </tr>\n",
       "    <tr>\n",
       "      <th>612317</th>\n",
       "      <td>2023-03-31</td>\n",
       "      <td>22:02</td>\n",
       "      <td>regular</td>\n",
       "      <td>doméstico</td>\n",
       "      <td>despegue</td>\n",
       "      <td>eze</td>\n",
       "      <td>igu</td>\n",
       "      <td>aerolineas argentinas sa</td>\n",
       "      <td>bo-737-8hx</td>\n",
       "      <td>71.0</td>\n",
       "      <td>22</td>\n",
       "      <td>02</td>\n",
       "      <td>Friday</td>\n",
       "      <td>3</td>\n",
       "      <td>2023</td>\n",
       "      <td>2023-03-01</td>\n",
       "    </tr>\n",
       "    <tr>\n",
       "      <th>612471</th>\n",
       "      <td>2023-03-31</td>\n",
       "      <td>23:47</td>\n",
       "      <td>regular</td>\n",
       "      <td>doméstico</td>\n",
       "      <td>despegue</td>\n",
       "      <td>aer</td>\n",
       "      <td>cba</td>\n",
       "      <td>aerolineas argentinas sa</td>\n",
       "      <td>bo-737-8hx</td>\n",
       "      <td>64.0</td>\n",
       "      <td>23</td>\n",
       "      <td>47</td>\n",
       "      <td>Friday</td>\n",
       "      <td>3</td>\n",
       "      <td>2023</td>\n",
       "      <td>2023-03-01</td>\n",
       "    </tr>\n",
       "    <tr>\n",
       "      <th>612483</th>\n",
       "      <td>2023-03-31</td>\n",
       "      <td>23:58</td>\n",
       "      <td>regular</td>\n",
       "      <td>doméstico</td>\n",
       "      <td>despegue</td>\n",
       "      <td>aer</td>\n",
       "      <td>cba</td>\n",
       "      <td>aerolineas argentinas sa</td>\n",
       "      <td>bo-737-8hx</td>\n",
       "      <td>70.0</td>\n",
       "      <td>23</td>\n",
       "      <td>58</td>\n",
       "      <td>Friday</td>\n",
       "      <td>3</td>\n",
       "      <td>2023</td>\n",
       "      <td>2023-03-01</td>\n",
       "    </tr>\n",
       "  </tbody>\n",
       "</table>\n",
       "<p>5414 rows × 16 columns</p>\n",
       "</div>"
      ],
      "text/plain": [
       "            fecha hora utc clase_vuelo clasificación vuelo movimiento  \\\n",
       "308    2022-01-01    22:49     regular           doméstico   despegue   \n",
       "314    2022-01-01    22:25     regular           doméstico   despegue   \n",
       "374    2022-01-01    19:30     regular           doméstico   despegue   \n",
       "379    2022-01-01    19:06     regular           doméstico   despegue   \n",
       "427    2022-01-01    16:29     regular           doméstico   despegue   \n",
       "...           ...      ...         ...                 ...        ...   \n",
       "612084 2023-03-31    19:55     regular           doméstico   despegue   \n",
       "612284 2023-03-31    21:46     regular           doméstico   despegue   \n",
       "612317 2023-03-31    22:02     regular           doméstico   despegue   \n",
       "612471 2023-03-31    23:47     regular           doméstico   despegue   \n",
       "612483 2023-03-31    23:58     regular           doméstico   despegue   \n",
       "\n",
       "       aeropuerto origen / destino                    aerolinea    aeronave  \\\n",
       "308           gal              aer     aerolineas argentinas sa  bo-737-8hx   \n",
       "314           cba              igu     aerolineas argentinas sa  bo-737-8hx   \n",
       "374           bar              cba     aerolineas argentinas sa  bo-737-8hx   \n",
       "379           aer              gal     aerolineas argentinas sa  bo-737-8hx   \n",
       "427           cba              bar     aerolineas argentinas sa  bo-737-8hx   \n",
       "...           ...              ...                          ...         ...   \n",
       "612084        eca              aer     aerolineas argentinas sa  bo-737-8hx   \n",
       "612284        usu              eze  fb líneas aéreas - flybondi  bo-737-8hx   \n",
       "612317        eze              igu     aerolineas argentinas sa  bo-737-8hx   \n",
       "612471        aer              cba     aerolineas argentinas sa  bo-737-8hx   \n",
       "612483        aer              cba     aerolineas argentinas sa  bo-737-8hx   \n",
       "\n",
       "        pasajeros hora minutos       dia  month  year     period  \n",
       "308          53.0   22      49  Saturday      1  2022 2022-01-01  \n",
       "314          71.0   22      25  Saturday      1  2022 2022-01-01  \n",
       "374          42.0   19      30  Saturday      1  2022 2022-01-01  \n",
       "379          40.0   19      06  Saturday      1  2022 2022-01-01  \n",
       "427          84.0   16      29  Saturday      1  2022 2022-01-01  \n",
       "...           ...  ...     ...       ...    ...   ...        ...  \n",
       "612084       82.0   19      55    Friday      3  2023 2023-03-01  \n",
       "612284        1.0   21      46    Friday      3  2023 2023-03-01  \n",
       "612317       71.0   22      02    Friday      3  2023 2023-03-01  \n",
       "612471       64.0   23      47    Friday      3  2023 2023-03-01  \n",
       "612483       70.0   23      58    Friday      3  2023 2023-03-01  \n",
       "\n",
       "[5414 rows x 16 columns]"
      ]
     },
     "execution_count": 220,
     "metadata": {},
     "output_type": "execute_result"
    }
   ],
   "source": [
    "#analizamos el dataframe de despegues domesticos y tomamos un caso de estudio para analizar\n",
    "dfdespedomes[(dfdespedomes['aeronave']=='bo-737-8hx')& (dfdespedomes['pasajeros']>0)]\n"
   ]
  },
  {
   "cell_type": "code",
   "execution_count": 221,
   "metadata": {},
   "outputs": [
    {
     "data": {
      "text/plain": [
       "array([ 1,  2,  3,  4,  5,  6,  7,  8,  9, 10, 11, 12], dtype=int64)"
      ]
     },
     "execution_count": 221,
     "metadata": {},
     "output_type": "execute_result"
    }
   ],
   "source": [
    "#distinct month\n",
    "dfdespedomes['month'].unique()"
   ]
  },
  {
   "cell_type": "code",
   "execution_count": 248,
   "metadata": {},
   "outputs": [
    {
     "name": "stderr",
     "output_type": "stream",
     "text": [
      "C:\\Users\\murtubey\\AppData\\Local\\Temp\\ipykernel_23592\\36058766.py:3: SettingWithCopyWarning: \n",
      "A value is trying to be set on a copy of a slice from a DataFrame.\n",
      "Try using .loc[row_indexer,col_indexer] = value instead\n",
      "\n",
      "See the caveats in the documentation: https://pandas.pydata.org/pandas-docs/stable/user_guide/indexing.html#returning-a-view-versus-a-copy\n",
      "  dfdespedomes['clave'] = dfdespedomes['month'].astype(str)+dfdespedomes['year'].astype(str)+dfdespedomes['aeronave'] + dfdespedomes['aeropuerto']+dfdespedomes['origen / destino']+ dfdespedomes['pasajeros'].astype(str)\n"
     ]
    }
   ],
   "source": [
    "#intentamos crear una clave unica dado que no poseemos el flight id\n",
    "#concatenate aeronave aeropuerto y pasajeros el obejtivo es crear una clave unica para joinear despegue con aterrizaje\n",
    "\n",
    "dfdespedomes['clave'] = dfdespedomes['month'].astype(str)+dfdespedomes['year'].astype(str)+dfdespedomes['aeronave'] + dfdespedomes['aeropuerto']+dfdespedomes['origen / destino']+ dfdespedomes['pasajeros'].astype(str)\n",
    "\n",
    "#distinct count clumn clave\n",
    "print(dfdespedomes['clave'].nunique())\n",
    "\n",
    "#len of dataframe\n",
    "print(len(dfdespedomes))\n",
    "\n",
    "print('El porcentaje de perdida datos es del',(len(dfdespedomes)-(dfdespedomes['clave'].nunique()))/len(dfdespedomes)*100,'','no se puede crear la clave unica')"
   ]
  },
  {
   "cell_type": "code",
   "execution_count": 226,
   "metadata": {},
   "outputs": [
    {
     "data": {
      "text/html": [
       "<div>\n",
       "<style scoped>\n",
       "    .dataframe tbody tr th:only-of-type {\n",
       "        vertical-align: middle;\n",
       "    }\n",
       "\n",
       "    .dataframe tbody tr th {\n",
       "        vertical-align: top;\n",
       "    }\n",
       "\n",
       "    .dataframe thead th {\n",
       "        text-align: right;\n",
       "    }\n",
       "</style>\n",
       "<table border=\"1\" class=\"dataframe\">\n",
       "  <thead>\n",
       "    <tr style=\"text-align: right;\">\n",
       "      <th></th>\n",
       "      <th>fecha</th>\n",
       "      <th>hora utc</th>\n",
       "      <th>clase_vuelo</th>\n",
       "      <th>clasificación vuelo</th>\n",
       "      <th>movimiento</th>\n",
       "      <th>aeropuerto</th>\n",
       "      <th>origen / destino</th>\n",
       "      <th>aerolinea</th>\n",
       "      <th>aeronave</th>\n",
       "      <th>pasajeros</th>\n",
       "      <th>hora</th>\n",
       "      <th>minutos</th>\n",
       "      <th>dia</th>\n",
       "      <th>month</th>\n",
       "      <th>year</th>\n",
       "      <th>period</th>\n",
       "      <th>clave</th>\n",
       "      <th>week</th>\n",
       "    </tr>\n",
       "  </thead>\n",
       "  <tbody>\n",
       "    <tr>\n",
       "      <th>291</th>\n",
       "      <td>2022-01-01</td>\n",
       "      <td>23:56</td>\n",
       "      <td>regular</td>\n",
       "      <td>doméstico</td>\n",
       "      <td>despegue</td>\n",
       "      <td>cba</td>\n",
       "      <td>aer</td>\n",
       "      <td>jetsmart airlines s.a.</td>\n",
       "      <td>aib-a320-232</td>\n",
       "      <td>62.0</td>\n",
       "      <td>23</td>\n",
       "      <td>56</td>\n",
       "      <td>Saturday</td>\n",
       "      <td>1</td>\n",
       "      <td>2022</td>\n",
       "      <td>2022-01-01</td>\n",
       "      <td>12022aib-a320-232cbaaer62.0</td>\n",
       "      <td>52</td>\n",
       "    </tr>\n",
       "    <tr>\n",
       "      <th>295</th>\n",
       "      <td>2022-01-01</td>\n",
       "      <td>23:37</td>\n",
       "      <td>regular</td>\n",
       "      <td>doméstico</td>\n",
       "      <td>despegue</td>\n",
       "      <td>ros</td>\n",
       "      <td>aer</td>\n",
       "      <td>aerolineas argentinas sa</td>\n",
       "      <td>bo-737-8sh</td>\n",
       "      <td>19.0</td>\n",
       "      <td>23</td>\n",
       "      <td>37</td>\n",
       "      <td>Saturday</td>\n",
       "      <td>1</td>\n",
       "      <td>2022</td>\n",
       "      <td>2022-01-01</td>\n",
       "      <td>12022bo-737-8shrosaer19.0</td>\n",
       "      <td>52</td>\n",
       "    </tr>\n",
       "    <tr>\n",
       "      <th>296</th>\n",
       "      <td>2022-01-01</td>\n",
       "      <td>23:34</td>\n",
       "      <td>regular</td>\n",
       "      <td>doméstico</td>\n",
       "      <td>despegue</td>\n",
       "      <td>igu</td>\n",
       "      <td>eze</td>\n",
       "      <td>aerolineas argentinas sa</td>\n",
       "      <td>bo-b737-8mb</td>\n",
       "      <td>68.0</td>\n",
       "      <td>23</td>\n",
       "      <td>34</td>\n",
       "      <td>Saturday</td>\n",
       "      <td>1</td>\n",
       "      <td>2022</td>\n",
       "      <td>2022-01-01</td>\n",
       "      <td>12022bo-b737-8mbigueze68.0</td>\n",
       "      <td>52</td>\n",
       "    </tr>\n",
       "    <tr>\n",
       "      <th>297</th>\n",
       "      <td>2022-01-01</td>\n",
       "      <td>23:29</td>\n",
       "      <td>regular</td>\n",
       "      <td>doméstico</td>\n",
       "      <td>despegue</td>\n",
       "      <td>sis</td>\n",
       "      <td>cba</td>\n",
       "      <td>aerolineas argentinas sa</td>\n",
       "      <td>emb-erj190100igw</td>\n",
       "      <td>32.0</td>\n",
       "      <td>23</td>\n",
       "      <td>29</td>\n",
       "      <td>Saturday</td>\n",
       "      <td>1</td>\n",
       "      <td>2022</td>\n",
       "      <td>2022-01-01</td>\n",
       "      <td>12022emb-erj190100igwsiscba32.0</td>\n",
       "      <td>52</td>\n",
       "    </tr>\n",
       "    <tr>\n",
       "      <th>300</th>\n",
       "      <td>2022-01-01</td>\n",
       "      <td>23:23</td>\n",
       "      <td>regular</td>\n",
       "      <td>doméstico</td>\n",
       "      <td>despegue</td>\n",
       "      <td>aer</td>\n",
       "      <td>tuc</td>\n",
       "      <td>aerolineas argentinas sa</td>\n",
       "      <td>bo-b737-8sh</td>\n",
       "      <td>75.0</td>\n",
       "      <td>23</td>\n",
       "      <td>23</td>\n",
       "      <td>Saturday</td>\n",
       "      <td>1</td>\n",
       "      <td>2022</td>\n",
       "      <td>2022-01-01</td>\n",
       "      <td>12022bo-b737-8shaertuc75.0</td>\n",
       "      <td>52</td>\n",
       "    </tr>\n",
       "  </tbody>\n",
       "</table>\n",
       "</div>"
      ],
      "text/plain": [
       "         fecha hora utc clase_vuelo clasificación vuelo movimiento aeropuerto  \\\n",
       "291 2022-01-01    23:56     regular           doméstico   despegue        cba   \n",
       "295 2022-01-01    23:37     regular           doméstico   despegue        ros   \n",
       "296 2022-01-01    23:34     regular           doméstico   despegue        igu   \n",
       "297 2022-01-01    23:29     regular           doméstico   despegue        sis   \n",
       "300 2022-01-01    23:23     regular           doméstico   despegue        aer   \n",
       "\n",
       "    origen / destino                 aerolinea          aeronave  pasajeros  \\\n",
       "291              aer    jetsmart airlines s.a.      aib-a320-232       62.0   \n",
       "295              aer  aerolineas argentinas sa        bo-737-8sh       19.0   \n",
       "296              eze  aerolineas argentinas sa       bo-b737-8mb       68.0   \n",
       "297              cba  aerolineas argentinas sa  emb-erj190100igw       32.0   \n",
       "300              tuc  aerolineas argentinas sa       bo-b737-8sh       75.0   \n",
       "\n",
       "    hora minutos       dia  month  year     period  \\\n",
       "291   23      56  Saturday      1  2022 2022-01-01   \n",
       "295   23      37  Saturday      1  2022 2022-01-01   \n",
       "296   23      34  Saturday      1  2022 2022-01-01   \n",
       "297   23      29  Saturday      1  2022 2022-01-01   \n",
       "300   23      23  Saturday      1  2022 2022-01-01   \n",
       "\n",
       "                               clave  week  \n",
       "291      12022aib-a320-232cbaaer62.0    52  \n",
       "295        12022bo-737-8shrosaer19.0    52  \n",
       "296       12022bo-b737-8mbigueze68.0    52  \n",
       "297  12022emb-erj190100igwsiscba32.0    52  \n",
       "300       12022bo-b737-8shaertuc75.0    52  "
      ]
     },
     "execution_count": 226,
     "metadata": {},
     "output_type": "execute_result"
    }
   ],
   "source": [
    "dfdespedomes.head()"
   ]
  },
  {
   "cell_type": "code",
   "execution_count": 227,
   "metadata": {},
   "outputs": [
    {
     "data": {
      "image/png": "[encoded data removed]",
      "text/plain": [
       "<Figure size 432x288 with 1 Axes>"
      ]
     },
     "metadata": {
      "needs_background": "light"
     },
     "output_type": "display_data"
    }
   ],
   "source": [
    "#pasajeros Domesticos\n",
    "\n",
    "#metricas de tiempo - Cuando se viaja mas - cuando se viaja menos - cuando hay mas pasajeros y cuando menos pasajeros\n",
    "\n",
    "dfgrupedperiod=dfdespedomes.groupby(['period']).agg(\n",
    "    Pasajeros_Sum=('pasajeros', 'sum'),\n",
    "    Q_viajes=('pasajeros', 'count'),\n",
    "    Detalle_mes=('month', 'unique'),\n",
    "    Pasajeros_Pct_Total=('pasajeros', lambda x: x.sum()*100 / df['pasajeros'].sum())\n",
    ").sort_values(by='period', ascending=False).reset_index()\n",
    "\n",
    "#plot grouped data barchar\n",
    "dfgrupedperiod.sort_values(by='period', ascending=True).plot.bar(x='period', y='Pasajeros_Pct_Total', rot=90)\n",
    "#color blue\n",
    "plt.title('Pasajeros por mes')\n",
    "plt.xlabel('Mes')\n",
    "plt.ylabel('Pasajeros')\n",
    "plt.show()"
   ]
  },
  {
   "cell_type": "code",
   "execution_count": 228,
   "metadata": {},
   "outputs": [
    {
     "data": {
      "text/plain": [
       "Text(0, 0.5, 'Pasajeros')"
      ]
     },
     "execution_count": 228,
     "metadata": {},
     "output_type": "execute_result"
    },
    {
     "data": {
      "image/png": "[encoded data removed]",
      "text/plain": [
       "<Figure size 432x288 with 1 Axes>"
      ]
     },
     "metadata": {
      "needs_background": "light"
     },
     "output_type": "display_data"
    }
   ],
   "source": [
    "#pasajeros Internacionales \n",
    "\n",
    "#metricas de tiempo - Cuando se viaja mas - cuando se viaja menos - cuando hay mas pasajeros y cuando menos pasajeros\n",
    "\n",
    "dfgrupedperiodint=dfdespeinter.groupby(['period']).agg(\n",
    "    Pasajeros_Sum=('pasajeros', 'sum'),\n",
    "    Q_viajes=('pasajeros', 'count'),\n",
    "    Detalle_mes=('month', 'unique'),\n",
    "    Pasajeros_Pct_Total=('pasajeros', lambda x: x.sum()*100 / df['pasajeros'].sum())\n",
    ").sort_values(by='period', ascending=False).reset_index()\n",
    "\n",
    "#plot grouped data barchar\n",
    "graph2 = dfgrupedperiodint.sort_values(by='period', ascending=True).plot.bar(x='period', y='Pasajeros_Pct_Total', rot=90)\n",
    "graph2.set_title('Pasajeros por mes')\n",
    "graph2.set_xlabel('Mes')\n",
    "graph2.set_ylabel('Pasajeros')"
   ]
  },
  {
   "cell_type": "code",
   "execution_count": 229,
   "metadata": {},
   "outputs": [
    {
     "data": {
      "text/html": [
       "<div>\n",
       "<style scoped>\n",
       "    .dataframe tbody tr th:only-of-type {\n",
       "        vertical-align: middle;\n",
       "    }\n",
       "\n",
       "    .dataframe tbody tr th {\n",
       "        vertical-align: top;\n",
       "    }\n",
       "\n",
       "    .dataframe thead th {\n",
       "        text-align: right;\n",
       "    }\n",
       "</style>\n",
       "<table border=\"1\" class=\"dataframe\">\n",
       "  <thead>\n",
       "    <tr style=\"text-align: right;\">\n",
       "      <th></th>\n",
       "      <th>period</th>\n",
       "      <th>aeropuerto</th>\n",
       "      <th>Pasajeros_Sum</th>\n",
       "      <th>Pasajeros_Count</th>\n",
       "      <th>Pasajeros_Pct_Total</th>\n",
       "    </tr>\n",
       "  </thead>\n",
       "  <tbody>\n",
       "    <tr>\n",
       "      <th>4</th>\n",
       "      <td>2023-01-01</td>\n",
       "      <td>aer</td>\n",
       "      <td>239159.0</td>\n",
       "      <td>3607</td>\n",
       "      <td>0.827753</td>\n",
       "    </tr>\n",
       "  </tbody>\n",
       "</table>\n",
       "</div>"
      ],
      "text/plain": [
       "      period aeropuerto  Pasajeros_Sum  Pasajeros_Count  Pasajeros_Pct_Total\n",
       "4 2023-01-01        aer       239159.0             3607             0.827753"
      ]
     },
     "execution_count": 229,
     "metadata": {},
     "output_type": "execute_result"
    }
   ],
   "source": [
    "\n",
    "# calculate the sum, count, max, and percentage of total for the 'Pasajeros' and 'days' columns\n",
    "dfgroupedAero=dfdespedomes.groupby(['period','aeropuerto']).agg(\n",
    "    Pasajeros_Sum=('pasajeros', 'sum'),\n",
    "    Pasajeros_Count=('pasajeros', 'count'),\n",
    "    Pasajeros_Pct_Total=('pasajeros', lambda x: x.sum()*100 / df['pasajeros'].sum())\n",
    ").sort_values(by='Pasajeros_Sum', ascending=False).reset_index()\n",
    "\n",
    "#mes con mas viajes\n",
    "per=dfgrupedperiod[dfgrupedperiod['Pasajeros_Sum']==dfgrupedperiod['Pasajeros_Sum'].max()]['period']\n",
    "#lo convierto a string para poder meterlo en le df de aeropuertos\n",
    "per=per.to_string(index=False)\n",
    "\n",
    "#busco del mes con mas pasajeros cual es el eropuerto que mas traccciono\n",
    "dfae=dfgroupedAero[(dfgroupedAero['period']==per)]\n",
    "dfae[dfae['Pasajeros_Sum']==dfae['Pasajeros_Sum'].max()]"
   ]
  },
  {
   "cell_type": "code",
   "execution_count": 238,
   "metadata": {},
   "outputs": [
    {
     "data": {
      "text/html": [
       "<div>\n",
       "<style scoped>\n",
       "    .dataframe tbody tr th:only-of-type {\n",
       "        vertical-align: middle;\n",
       "    }\n",
       "\n",
       "    .dataframe tbody tr th {\n",
       "        vertical-align: top;\n",
       "    }\n",
       "\n",
       "    .dataframe thead th {\n",
       "        text-align: right;\n",
       "    }\n",
       "</style>\n",
       "<table border=\"1\" class=\"dataframe\">\n",
       "  <thead>\n",
       "    <tr style=\"text-align: right;\">\n",
       "      <th></th>\n",
       "      <th>period</th>\n",
       "      <th>aeropuerto</th>\n",
       "      <th>Pasajeros_Sum</th>\n",
       "      <th>Pasajeros_Count</th>\n",
       "      <th>Pasajeros_Pct_Total</th>\n",
       "    </tr>\n",
       "  </thead>\n",
       "  <tbody>\n",
       "    <tr>\n",
       "      <th>0</th>\n",
       "      <td>2023-01-01</td>\n",
       "      <td>eze</td>\n",
       "      <td>361577.0</td>\n",
       "      <td>1803</td>\n",
       "      <td>1.251453</td>\n",
       "    </tr>\n",
       "  </tbody>\n",
       "</table>\n",
       "</div>"
      ],
      "text/plain": [
       "      period aeropuerto  Pasajeros_Sum  Pasajeros_Count  Pasajeros_Pct_Total\n",
       "0 2023-01-01        eze       361577.0             1803             1.251453"
      ]
     },
     "execution_count": 238,
     "metadata": {},
     "output_type": "execute_result"
    }
   ],
   "source": [
    "\n",
    "# calculate the sum, count, max, and percentage of total for the 'Pasajeros' and 'days' columns\n",
    "dfgroupedAeroint=dfdespeinter.groupby(['period','aeropuerto']).agg(\n",
    "    Pasajeros_Sum=('pasajeros', 'sum'),\n",
    "    Pasajeros_Count=('pasajeros', 'count'),\n",
    "    Pasajeros_Pct_Total=('pasajeros', lambda x: x.sum()*100 / df['pasajeros'].sum())\n",
    ").sort_values(by='Pasajeros_Sum', ascending=False).reset_index()\n",
    "\n",
    "#mes con mas viajes\n",
    "perint=dfgrupedperiodint[dfgrupedperiodint['Pasajeros_Sum']==dfgrupedperiodint['Pasajeros_Sum'].max()]['period']\n",
    "#lo convierto a string para poder meterlo en le df de aeropuertos\n",
    "perint=perint.to_string(index=False)\n",
    "\n",
    "#busco del mes con mas pasajeros cual es el eropuerto que mas traccciono\n",
    "dfaeint=dfgroupedAeroint[(dfgroupedAeroint['period']==per)]\n",
    "dfaeint[dfaeint['Pasajeros_Sum']==dfaeint['Pasajeros_Sum'].max()]"
   ]
  },
  {
   "cell_type": "code",
   "execution_count": 230,
   "metadata": {},
   "outputs": [
    {
     "data": {
      "text/plain": [
       "Text(0, 0.5, 'Total Pasajeros')"
      ]
     },
     "execution_count": 230,
     "metadata": {},
     "output_type": "execute_result"
    },
    {
     "data": {
      "image/png": "[encoded data removed]",
      "text/plain": [
       "<Figure size 432x288 with 1 Axes>"
      ]
     },
     "metadata": {
      "needs_background": "light"
     },
     "output_type": "display_data"
    }
   ],
   "source": [
    "dfgroupedaeros=dfdespedomes.groupby(['aeropuerto']).agg(\n",
    "    Pasajeros_Sum=('pasajeros', 'sum'),\n",
    "    Pasajeros_Count=('pasajeros', 'count'),\n",
    "    Pasajeros_Pct_Total=('pasajeros', lambda x: x.sum()*100 / df['pasajeros'].sum())\n",
    ").sort_values(by='Pasajeros_Sum', ascending=False).reset_index()\n",
    "\n",
    "\n",
    "# sort the data\n",
    "fgroupedpasajeros_sorted = dfgroupedaeros.sort_values(by='Pasajeros_Sum', ascending=False)\n",
    "\n",
    "# create the bar plot\n",
    "graph = fgroupedpasajeros_sorted.plot.bar(x='aeropuerto', y='Pasajeros_Sum', rot=90, color='blue')\n",
    "\n",
    "# set plot title and axis labels\n",
    "graph.set_title('Pasajeros por aeropuerto')\n",
    "graph.set_xlabel('Aeropuerto')\n",
    "graph.set_ylabel('Total Pasajeros')\n",
    "\n",
    "\n",
    "\n",
    "\n"
   ]
  },
  {
   "cell_type": "code",
   "execution_count": 252,
   "metadata": {},
   "outputs": [
    {
     "data": {
      "text/plain": [
       "Text(0, 0.5, 'Total Pasajeros')"
      ]
     },
     "execution_count": 252,
     "metadata": {},
     "output_type": "execute_result"
    },
    {
     "data": {
      "image/png": "[encoded data removed]",
      "text/plain": [
       "<Figure size 432x288 with 1 Axes>"
      ]
     },
     "metadata": {
      "needs_background": "light"
     },
     "output_type": "display_data"
    }
   ],
   "source": [
    "#pasajeros internacionales \n",
    "dfgroupedaeros_inter=dfdespeinter.groupby(['aeropuerto']).agg(\n",
    "    Pasajeros_Sum=('pasajeros', 'sum'),\n",
    "    Pasajeros_Count=('pasajeros', 'count'),\n",
    "    Pasajeros_Pct_Total=('pasajeros', lambda x: x.sum()*100 / df['pasajeros'].sum())\n",
    ").sort_values(by='Pasajeros_Sum', ascending=False).reset_index()\n",
    "\n",
    "\n",
    "# sort the data\n",
    "fgroupedpasajeros_sorted_inter = dfgroupedaeros_inter.sort_values(by='Pasajeros_Sum', ascending=False)\n",
    "\n",
    "# create the bar plot\n",
    "graph2 = fgroupedpasajeros_sorted_inter.plot.bar(x='aeropuerto', y='Pasajeros_Sum', rot=90, color='blue')\n",
    "\n",
    "# set plot title and axis labels\n",
    "graph2.set_title('Pasajeros por aeropuerto')\n",
    "graph2.set_xlabel('Aeropuerto')\n",
    "graph2.set_ylabel('Total Pasajeros')\n",
    "\n",
    "\n"
   ]
  },
  {
   "cell_type": "code",
   "execution_count": 240,
   "metadata": {},
   "outputs": [
    {
     "name": "stdout",
     "output_type": "stream",
     "text": [
      "La hora que mas pasajeros eligen viajar 16\n",
      "La hora que mas aeronabes despegan es 16\n",
      "La hora que menos pasajeros eligen viajar 06\n",
      "La hora que menos  aeronabes despegan es 06\n"
     ]
    }
   ],
   "source": [
    "#Hora que mas se viaja y que menos se viaja vuelos nacionales \n",
    "\n",
    "#se agrupa por hora \n",
    "dfgroupedhoras=dfdespedomes.groupby(['hora']).agg(\n",
    "    Pasajeros_Sum=('pasajeros', 'sum'),\n",
    "    Q_vuelos=('pasajeros', 'count'),\n",
    ").sort_values(by='Pasajeros_Sum', ascending=False).reset_index()\n",
    "\n",
    "#select hora where pasajeros sum is max\n",
    "hora_mas_pasajeros=dfgroupedhoras[dfgroupedhoras['Pasajeros_Sum']==dfgroupedhoras['Pasajeros_Sum'].max()]\n",
    "#select hora where pasajeros Q_vuelos is maz\n",
    "hora_max_vuelos=dfgroupedhoras[dfgroupedhoras['Q_vuelos']==dfgroupedhoras['Q_vuelos'].max()]\n",
    "\n",
    "#select hora where pasajeros sum is max\n",
    "hora_min_pasajeros=dfgroupedhoras[dfgroupedhoras['Pasajeros_Sum']==dfgroupedhoras['Pasajeros_Sum'].min()]\n",
    "#select hora where pasajeros Q_vuelos is maz\n",
    "hora_min_vuelos=dfgroupedhoras[dfgroupedhoras['Q_vuelos']==dfgroupedhoras['Q_vuelos'].min()]\n",
    "#print the results wihout index\n",
    "print('La hora que mas pasajeros eligen viajar',hora_mas_pasajeros['hora'].to_string(index=False))\n",
    "print('La hora que mas aeronabes despegan es',hora_max_vuelos['hora'].to_string(index=False))\n",
    "print('La hora que menos pasajeros eligen viajar',hora_min_pasajeros['hora'].to_string(index=False))\n",
    "print('La hora que menos  aeronabes despegan es',hora_min_vuelos['hora'].to_string(index=False))"
   ]
  },
  {
   "cell_type": "code",
   "execution_count": 253,
   "metadata": {},
   "outputs": [
    {
     "name": "stdout",
     "output_type": "stream",
     "text": [
      "La hora que mas pasajeros eligen viajar 01\n",
      "La hora que mas aeronabes despegan es 00\n",
      "La hora que menos pasajeros eligen viajar 06\n",
      "La hora que menos  aeronabes despegan es 06\n"
     ]
    }
   ],
   "source": [
    "#repetimos para los vuelos internacionales \n",
    "\n",
    "#se agrupa por hora \n",
    "dfgroupedhoras_inter=dfdespeinter.groupby(['hora']).agg(\n",
    "    Pasajeros_Sum=('pasajeros', 'sum'),\n",
    "    Q_vuelos=('pasajeros', 'count'),\n",
    ").sort_values(by='Pasajeros_Sum', ascending=False).reset_index()\n",
    "\n",
    "#select hora where pasajeros sum is max\n",
    "hora_mas_pasajeros_inter=dfgroupedhoras_inter[dfgroupedhoras_inter['Pasajeros_Sum']==dfgroupedhoras_inter['Pasajeros_Sum'].max()]\n",
    "#select hora where pasajeros Q_vuelos is maz\n",
    "hora_max_vuelos_inter=dfgroupedhoras_inter[dfgroupedhoras_inter['Q_vuelos']==dfgroupedhoras_inter['Q_vuelos'].max()]\n",
    "\n",
    "#select hora where pasajeros sum is max\n",
    "hora_min_pasajeros_inter=dfgroupedhoras_inter[dfgroupedhoras_inter['Pasajeros_Sum']==dfgroupedhoras_inter['Pasajeros_Sum'].min()]\n",
    "#select hora where pasajeros Q_vuelos is maz\n",
    "hora_min_vuelos_inter=dfgroupedhoras_inter[dfgroupedhoras_inter['Q_vuelos']==dfgroupedhoras_inter['Q_vuelos'].min()]\n",
    "#print the results wihout index\n",
    "print('La hora que mas pasajeros eligen viajar',hora_mas_pasajeros_inter['hora'].to_string(index=False))\n",
    "print('La hora que mas aeronabes despegan es',hora_max_vuelos_inter['hora'].to_string(index=False))\n",
    "print('La hora que menos pasajeros eligen viajar',hora_min_pasajeros_inter['hora'].to_string(index=False))\n",
    "print('La hora que menos  aeronabes despegan es',hora_min_vuelos_inter['hora'].to_string(index=False))\n"
   ]
  },
  {
   "cell_type": "code",
   "execution_count": 255,
   "metadata": {},
   "outputs": [
    {
     "name": "stdout",
     "output_type": "stream",
     "text": [
      "la aerolinea con mas viajes es  aerolineas argentinas sa\n"
     ]
    }
   ],
   "source": [
    "#aerolinea que mas se viaja y que menos se viaja\n",
    "dfgroupedaerolinea_dom=dfdespedomes.groupby(['aerolinea']).agg(\n",
    "    Pasajeros_Sum=('pasajeros', 'sum'),\n",
    "    Q_vuelos=('pasajeros', 'count'),\n",
    ").sort_values(by='Pasajeros_Sum', ascending=False).reset_index()\n",
    "\n",
    "\n",
    "# la aerolinea con mayor vuelos domesticos y pasajeros es la siguiente \n",
    "print('la aerolinea con mas viajes domesticos es  ',dfgroupedaerolinea_dom['aerolinea'].loc[0])"
   ]
  },
  {
   "cell_type": "code",
   "execution_count": 256,
   "metadata": {},
   "outputs": [
    {
     "name": "stdout",
     "output_type": "stream",
     "text": [
      "la aerolinea con mas viajes es internacionales es   aerolineas argentinas sa\n"
     ]
    }
   ],
   "source": [
    "dfgroupedaerolinea=dfdespeinter.groupby(['aerolinea']).agg(\n",
    "    Pasajeros_Sum=('pasajeros', 'sum'),\n",
    "    Q_vuelos=('pasajeros', 'count'),\n",
    ").sort_values(by='Pasajeros_Sum', ascending=False).reset_index()\n",
    "\n",
    "\n",
    "# la aerolinea con mayor vuelos domesticos y pasajeros es la siguiente \n",
    "print('la aerolinea con mas viajes es internacionales es  ',dfgroupedaerolinea['aerolinea'].loc[0])"
   ]
  },
  {
   "cell_type": "code",
   "execution_count": null,
   "metadata": {},
   "outputs": [],
   "source": []
  },
  {
   "cell_type": "code",
   "execution_count": null,
   "metadata": {},
   "outputs": [],
   "source": []
  },
  {
   "cell_type": "code",
   "execution_count": null,
   "metadata": {},
   "outputs": [],
   "source": []
  }
 ],
 "metadata": {
  "kernelspec": {
   "display_name": "Python 3.9.12 ('base')",
   "language": "python",
   "name": "python3"
  },
  "language_info": {
   "codemirror_mode": {
    "name": "ipython",
    "version": 3
   },
   "file_extension": ".py",
   "mimetype": "text/x-python",
   "name": "python",
   "nbconvert_exporter": "python",
   "pygments_lexer": "ipython3",
   "version": "3.9.12"
  },
  "orig_nbformat": 4,
  "vscode": {
   "interpreter": {
    "hash": "ad2bdc8ecc057115af97d19610ffacc2b4e99fae6737bb82f5d7fb13d2f2c186"
   }
  }
 },
 "nbformat": 4,
 "nbformat_minor": 2
}
